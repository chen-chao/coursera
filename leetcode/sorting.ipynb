{
 "cells": [
  {
   "cell_type": "markdown",
   "metadata": {},
   "source": [
    "# Sorting"
   ]
  },
  {
   "cell_type": "code",
   "execution_count": 5,
   "metadata": {},
   "outputs": [],
   "source": [
    "from random import shuffle"
   ]
  },
  {
   "cell_type": "markdown",
   "metadata": {},
   "source": [
    "## Algorithms"
   ]
  },
  {
   "cell_type": "markdown",
   "metadata": {},
   "source": [
    "### quick sort"
   ]
  },
  {
   "cell_type": "code",
   "execution_count": 34,
   "metadata": {},
   "outputs": [],
   "source": [
    "# from https://github.com/luoshao23/ML_algorithm/blob/master/Sorting/quick_sort.py\n",
    "def _qsort(l, lo, hi):\n",
    "    if hi < lo:\n",
    "        return\n",
    "        \n",
    "    i = lo\n",
    "    j = hi\n",
    "    pivot = l[lo]\n",
    "    \n",
    "    while i < j:\n",
    "        while j > i and l[j] >= pivot:\n",
    "            j -= 1            \n",
    "        l[i] = l[j]\n",
    "        \n",
    "        while i < j and l[i] < pivot:\n",
    "            i += 1        \n",
    "        l[j] = l[i]\n",
    "    \n",
    "    l[i] = pivot\n",
    "    \n",
    "    _qsort(l, lo, i-1)\n",
    "    _qsort(l, i+1, hi)"
   ]
  },
  {
   "cell_type": "code",
   "execution_count": 3,
   "metadata": {},
   "outputs": [],
   "source": [
    "def quick_sort(l):\n",
    "    _qsort(l, 0, len(l)-1)"
   ]
  },
  {
   "cell_type": "code",
   "execution_count": 28,
   "metadata": {},
   "outputs": [],
   "source": [
    "l = [5, 5, 5, 1, 2, 6, 6, 9, 8, 9]"
   ]
  },
  {
   "cell_type": "code",
   "execution_count": 22,
   "metadata": {},
   "outputs": [],
   "source": [
    "quick_sort(l)"
   ]
  },
  {
   "cell_type": "code",
   "execution_count": 33,
   "metadata": {},
   "outputs": [
    {
     "data": {
      "text/plain": [
       "[1, 2, 5, 5, 5, 6, 6, 8, 9, 9]"
      ]
     },
     "execution_count": 33,
     "metadata": {},
     "output_type": "execute_result"
    }
   ],
   "source": [
    "l"
   ]
  },
  {
   "cell_type": "markdown",
   "metadata": {},
   "source": [
    "### Selection sort"
   ]
  },
  {
   "cell_type": "code",
   "execution_count": 35,
   "metadata": {},
   "outputs": [],
   "source": [
    "def selection_sort(l):\n",
    "    length = len(l)\n",
    "    for i in range(length):\n",
    "        candidate = i\n",
    "        for j in range(i+1, length):\n",
    "            if l[j] < l[candidate]:\n",
    "                candidate = j\n",
    "        l[i], l[candidate] = l[candidate], l[i]"
   ]
  },
  {
   "cell_type": "code",
   "execution_count": 43,
   "metadata": {},
   "outputs": [
    {
     "data": {
      "text/plain": [
       "[9, 9, 8, 1, 6, 5, 5, 2, 5, 6]"
      ]
     },
     "execution_count": 43,
     "metadata": {},
     "output_type": "execute_result"
    }
   ],
   "source": [
    "shuffle(l)\n",
    "l"
   ]
  },
  {
   "cell_type": "code",
   "execution_count": 44,
   "metadata": {},
   "outputs": [],
   "source": [
    "selection_sort(l)"
   ]
  },
  {
   "cell_type": "code",
   "execution_count": 45,
   "metadata": {},
   "outputs": [
    {
     "data": {
      "text/plain": [
       "[1, 2, 5, 5, 5, 6, 6, 8, 9, 9]"
      ]
     },
     "execution_count": 45,
     "metadata": {},
     "output_type": "execute_result"
    }
   ],
   "source": [
    "l"
   ]
  },
  {
   "cell_type": "markdown",
   "metadata": {},
   "source": [
    "### Bubble Sort"
   ]
  },
  {
   "cell_type": "code",
   "execution_count": 49,
   "metadata": {},
   "outputs": [],
   "source": [
    "def bubble_sort(l):\n",
    "    length = len(l)\n",
    "    for j in range(length-1):\n",
    "        for i in range(length-1-j):\n",
    "            if l[i+1] < l[i]:\n",
    "                l[i+1], l[i] = l[i], l[i+1]       "
   ]
  },
  {
   "cell_type": "code",
   "execution_count": 50,
   "metadata": {},
   "outputs": [
    {
     "data": {
      "text/plain": [
       "[1, 5, 5, 6, 9, 5, 8, 6, 9, 2]"
      ]
     },
     "execution_count": 50,
     "metadata": {},
     "output_type": "execute_result"
    }
   ],
   "source": [
    "shuffle(l)\n",
    "l"
   ]
  },
  {
   "cell_type": "code",
   "execution_count": 51,
   "metadata": {},
   "outputs": [],
   "source": [
    "bubble_sort(l)"
   ]
  },
  {
   "cell_type": "code",
   "execution_count": 52,
   "metadata": {},
   "outputs": [
    {
     "data": {
      "text/plain": [
       "[1, 2, 5, 5, 5, 6, 6, 8, 9, 9]"
      ]
     },
     "execution_count": 52,
     "metadata": {},
     "output_type": "execute_result"
    }
   ],
   "source": [
    "l"
   ]
  },
  {
   "cell_type": "markdown",
   "metadata": {},
   "source": [
    "### Insertion sort"
   ]
  },
  {
   "cell_type": "code",
   "execution_count": 57,
   "metadata": {},
   "outputs": [],
   "source": [
    "def insertion_sort(l):\n",
    "    length = len(l)\n",
    "    for i in range(length):\n",
    "        for j in range(i, 1, -1):\n",
    "            if l[j] < l[j-1]:\n",
    "                l[j], l[j-1] = l[j-1], l[j]"
   ]
  },
  {
   "cell_type": "code",
   "execution_count": 58,
   "metadata": {},
   "outputs": [
    {
     "data": {
      "text/plain": [
       "[1, 8, 5, 5, 6, 5, 9, 9, 2, 6]"
      ]
     },
     "execution_count": 58,
     "metadata": {},
     "output_type": "execute_result"
    }
   ],
   "source": [
    "shuffle(l)\n",
    "l"
   ]
  },
  {
   "cell_type": "code",
   "execution_count": 59,
   "metadata": {},
   "outputs": [],
   "source": [
    "insertion_sort(l)"
   ]
  },
  {
   "cell_type": "code",
   "execution_count": 60,
   "metadata": {},
   "outputs": [
    {
     "data": {
      "text/plain": [
       "[1, 2, 5, 5, 5, 6, 6, 8, 9, 9]"
      ]
     },
     "execution_count": 60,
     "metadata": {},
     "output_type": "execute_result"
    }
   ],
   "source": [
    "l"
   ]
  },
  {
   "cell_type": "markdown",
   "metadata": {},
   "source": [
    "### Merge sort"
   ]
  },
  {
   "cell_type": "code",
   "execution_count": 8,
   "metadata": {},
   "outputs": [],
   "source": [
    "def merge(nums, lo, hi, aux) -> int:\n",
    "    '''merge two sorted subarry, and returns the number of reverse pairs'''\n",
    "    mid = (lo + hi) // 2\n",
    "    i = lo\n",
    "    j = mid + 1\n",
    "    k = lo\n",
    "    rev = 0\n",
    "    while i <= mid and j <= hi:\n",
    "        if nums[i] > nums[j]:\n",
    "            aux[k] = nums[j]\n",
    "            rev += (mid - i + 1)\n",
    "            j += 1\n",
    "        else:\n",
    "            aux[k] = nums[i]\n",
    "            i += 1\n",
    "        k += 1\n",
    "        \n",
    "    while i <= mid:\n",
    "        aux[k] = nums[i]\n",
    "        i += 1\n",
    "        k += 1\n",
    "        \n",
    "    while j <= hi:\n",
    "        aux[k] = nums[j]\n",
    "        j += 1\n",
    "        k += 1\n",
    "        \n",
    "    return rev"
   ]
  },
  {
   "cell_type": "code",
   "execution_count": 9,
   "metadata": {},
   "outputs": [],
   "source": [
    "def _msort(nums, lo, hi, aux):\n",
    "    if lo >= hi:\n",
    "        return 0\n",
    "    \n",
    "    mid = (lo + hi) // 2\n",
    "    rev1 = _msort(aux, lo, mid, nums)\n",
    "    rev2 = _msort(aux, mid+1, hi, nums)\n",
    "    rev3 = merge(aux, lo, hi, nums)\n",
    "    return rev1 + rev2 + rev3\n",
    "\n",
    "def merge_sort(nums):\n",
    "    aux = nums[:]\n",
    "    return _msort(nums, 0, len(nums)-1, aux)"
   ]
  },
  {
   "cell_type": "code",
   "execution_count": 14,
   "metadata": {},
   "outputs": [
    {
     "data": {
      "text/plain": [
       "[0, 3, 4, 2, 1, 5]"
      ]
     },
     "execution_count": 14,
     "metadata": {},
     "output_type": "execute_result"
    }
   ],
   "source": [
    "l = list(range(6))\n",
    "shuffle(l)\n",
    "l"
   ]
  },
  {
   "cell_type": "code",
   "execution_count": 15,
   "metadata": {},
   "outputs": [
    {
     "name": "stdout",
     "output_type": "stream",
     "text": [
      "5\n",
      "[0, 1, 2, 3, 4, 5]\n"
     ]
    }
   ],
   "source": [
    "rev = merge_sort(l)\n",
    "print(rev)\n",
    "print(l)"
   ]
  },
  {
   "cell_type": "markdown",
   "metadata": {},
   "source": [
    "## Problems"
   ]
  },
  {
   "cell_type": "markdown",
   "metadata": {},
   "source": [
    "### 215. Kth Largest Element in an Array"
   ]
  },
  {
   "cell_type": "code",
   "execution_count": 2,
   "metadata": {},
   "outputs": [],
   "source": [
    "def partition(nums, lo, hi):\n",
    "    i, j = lo, hi\n",
    "    pivot = nums[lo]\n",
    "    \n",
    "    while i < j:\n",
    "        while i < j and nums[j] >= pivot:\n",
    "            j -= 1\n",
    "        \n",
    "        nums[i] = nums[j]\n",
    "        while i < j and nums[i] < pivot:\n",
    "            i += 1\n",
    "            \n",
    "        nums[j] = nums[i]\n",
    "        \n",
    "    nums[i] = pivot\n",
    "    return i\n",
    "\n",
    "def findk(nums, k, lo, hi):\n",
    "    i = partition(nums, lo, hi)\n",
    "    pos = hi - i + 1\n",
    "    if pos == k:\n",
    "        return nums[i]\n",
    "    \n",
    "    if pos > k:\n",
    "        return findk(nums, k, i+1, hi)\n",
    "    else:\n",
    "        return findk(nums, k-pos, lo, i-1)"
   ]
  },
  {
   "cell_type": "code",
   "execution_count": null,
   "metadata": {},
   "outputs": [],
   "source": []
  }
 ],
 "metadata": {
  "kernelspec": {
   "display_name": "Python 3",
   "language": "python",
   "name": "python3"
  },
  "language_info": {
   "codemirror_mode": {
    "name": "ipython",
    "version": 3
   },
   "file_extension": ".py",
   "mimetype": "text/x-python",
   "name": "python",
   "nbconvert_exporter": "python",
   "pygments_lexer": "ipython3",
   "version": "3.8.0"
  }
 },
 "nbformat": 4,
 "nbformat_minor": 2
}
